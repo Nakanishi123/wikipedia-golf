{
 "cells": [
  {
   "cell_type": "markdown",
   "metadata": {},
   "source": [
    "## データベースの構造\n",
    "\n",
    "### `pagelinks`\n",
    "\n",
    "| Field               | Type                | Null | Key | Default | Extra |\n",
    "| ------------------- | ------------------- | ---- | --- | ------- | ----- |\n",
    "| `pl_from`           | int(10) unsigned    | NO   | PRI | 0       |       |\n",
    "| `pl_target_id`      | bigint(20) unsigned | NO   | PRI | NULL    |       |\n",
    "| `pl_from_namespace` | int(11)             | NO   | MUL | 0       |       |\n",
    "\n",
    "### `linktarget`\n",
    "\n",
    "| Field          | Type                | Null | Key | Default | Extra          |\n",
    "| -------------- | ------------------- | ---- | --- | ------- | -------------- |\n",
    "| `lt_id`        | bigint(20) unsigned | NO   | PRI | NULL    | auto_increment |\n",
    "| `lt_namespace` | int(11)             | NO   | MUL | NULL    |                |\n",
    "| `lt_title`     | varbinary(255)      | NO   |     | NULL    |                |\n",
    "\n",
    "### `page`\n",
    "\n",
    "| Field                | Type                | Null | Key | Default | Extra          |\n",
    "| -------------------- | ------------------- | ---- | --- | ------- | -------------- |\n",
    "| `page_id`            | int(10) unsigned    | NO   | PRI | NULL    | auto_increment |\n",
    "| `page_namespace`     | int(11)             | NO   | MUL | NULL    |                |\n",
    "| `page_title`         | varbinary(255)      | NO   |     | NULL    |                |\n",
    "| `page_is_redirect`   | tinyint(3) unsigned | NO   | MUL | 0       |                |\n",
    "| `page_is_new`        | tinyint(3) unsigned | NO   |     | 0       |                |\n",
    "| `page_random`        | double unsigned     | NO   | MUL | NULL    |                |\n",
    "| `page_touched`       | binary(14)          | NO   |     | NULL    |                |\n",
    "| `page_links_updated` | binary(14)          | YES  |     | NULL    |                |\n",
    "| `page_latest`        | int(10) unsigned    | NO   |     | NULL    |                |\n",
    "| `page_len`           | int(10) unsigned    | NO   | MUL | NULL    |                |\n",
    "| `page_content_model` | varbinary(32)       | YES  |     | NULL    |                |\n",
    "| `page_lang`          | varbinary(35)       | YES  |     | NULL    |                |\n",
    "\n",
    "### `redirect`\n",
    "\n",
    "| Field          | Type             | Null | Key | Default | Extra |\n",
    "| -------------- | ---------------- | ---- | --- | ------- | ----- |\n",
    "| `rd_from`      | int(10) unsigned | NO   | PRI | 0       |       |\n",
    "| `rd_namespace` | int(11)          | NO   | MUL | 0       |       |\n",
    "| `rd_title`     | varbinary(255)   | NO   |     | NULL    |       |\n",
    "| `rd_interwiki` | varbinary(32)    | YES  |     | NULL    |       |\n",
    "| `rd_fragment`  | varbinary(255)   | YES  |     | NULL    |       |\n"
   ]
  },
  {
   "cell_type": "code",
   "execution_count": 2,
   "metadata": {},
   "outputs": [],
   "source": [
    "from pathlib import Path\n",
    "import sqlite3\n",
    "\n",
    "\n",
    "wikidata = Path(\"../wikidata\")\n",
    "page_db = wikidata / \"jawiki-latest-page.sqlite\"\n",
    "pagelink_db = wikidata / \"jawiki-latest-pagelinks.sqlite\"\n",
    "redirect_db = wikidata / \"jawiki-latest-redirect.sqlite\"\n",
    "linktarget_db = wikidata / \"jawiki-latest-linktarget.sqlite\"\n",
    "gen_db = wikidata / \"gen.sqlite\""
   ]
  },
  {
   "cell_type": "code",
   "execution_count": 3,
   "metadata": {},
   "outputs": [],
   "source": [
    "# memory上にデータベースを作成して、それぞれのデータベースをアタッチする\n",
    "conn = sqlite3.connect(f\"{gen_db}\")\n",
    "cur = conn.cursor()\n",
    "_ = cur.execute(\"ATTACH DATABASE ? AS pagelinks\", (str(pagelink_db),))\n",
    "_ = cur.execute(\"ATTACH DATABASE ? AS redirect\", (str(redirect_db),))\n",
    "_ = cur.execute(\"ATTACH DATABASE ? AS page\", (str(page_db),))\n",
    "_ = cur.execute(\"ATTACH DATABASE ? AS linktarget\", (str(linktarget_db),))"
   ]
  },
  {
   "cell_type": "code",
   "execution_count": 4,
   "metadata": {},
   "outputs": [],
   "source": [
    "# テーブルをコピーする  namespaceが0(記事)かつ日本語wikiのものだけを対象とする\n",
    "_ = cur.execute(\"CREATE TABLE page AS SELECT * FROM page.page WHERE page_namespace = 0\")\n",
    "_ = cur.execute(\"CREATE TABLE pagelinks AS SELECT * FROM pagelinks.pagelinks WHERE pl_from_namespace = 0\")\n",
    "_ = cur.execute(\"CREATE TABLE redirect AS SELECT * FROM redirect.redirect WHERE rd_namespace = 0 AND rd_interwiki = ''\")\n",
    "_ = cur.execute(\"CREATE TABLE linktarget AS SELECT * FROM linktarget.linktarget WHERE lt_namespace = 0\")"
   ]
  },
  {
   "cell_type": "code",
   "execution_count": 5,
   "metadata": {},
   "outputs": [],
   "source": [
    "# indexを作成\n",
    "_ = cur.execute(\"CREATE INDEX IF NOT EXISTS idx_page_title ON page (page_title)\")\n",
    "_ = cur.execute(\"CREATE INDEX IF NOT EXISTS idx_rd_title ON redirect (rd_title)\")\n",
    "_ = cur.execute(\"CREATE INDEX IF NOT EXISTS idx_lt_title ON linktarget (lt_title)\")"
   ]
  },
  {
   "cell_type": "markdown",
   "metadata": {},
   "source": [
    "### redirect 先の page が存在しているものだけを取得して，リダイレクト先の id を結合\n",
    "\n",
    "- `rd_namespace = 0 AND rd_interwiki = ''` で，リダイレクト先が日本語 wiki の記事のものだけを取得しているが，リダイレクト元がそうであるとは限らない．リダイレクト元が記事じゃないページが混じっている．\n",
    "  [例](https://ja.wikipedia.org/w/index.php?title=%E5%88%A9%E7%94%A8%E8%80%85:%E6%97%A5%E6%9C%AC%E6%B5%B7%EF%BC%90%EF%BC%93%E4%B8%B8/sandbox&redirect=no)\n",
    "- redirect 先が存在しないものもある [例](https://ja.wikipedia.org/w/index.php?curid=1690433)\n",
    "- 上は `INNER JOIN` で消える\n"
   ]
  },
  {
   "cell_type": "code",
   "execution_count": 6,
   "metadata": {},
   "outputs": [],
   "source": [
    "sql = \"\"\"\n",
    "CREATE TABLE redirect_id AS\n",
    "SELECT\n",
    "    rd_from AS rd_from_id,\n",
    "    page.page_id AS rd_to_id\n",
    "FROM\n",
    "    redirect\n",
    "INNER JOIN\n",
    "    page\n",
    "ON\n",
    "    rd_title = page.page_title\n",
    ";\n",
    "\"\"\"\n",
    "_ = cur.execute(sql)"
   ]
  },
  {
   "cell_type": "markdown",
   "metadata": {},
   "source": [
    "### redirect 先を展開して，リンク元とリンク先の id を結合\n",
    "\n",
    "- `redirect_id` のリダイレクト元が記事でないやつが INNER JOIN で消える\n",
    "- リダイレクト先が記事でないやつもあり， `page_redirect_id IS NOT NULL` で消える [例](https://ja.wikipedia.org/w/index.php?curid=884763)\n"
   ]
  },
  {
   "cell_type": "code",
   "execution_count": null,
   "metadata": {},
   "outputs": [],
   "source": [
    "sql = \"\"\"\n",
    "CREATE TABLE page_and_redirect AS\n",
    "SELECT\n",
    "    page.page_id,\n",
    "    page.page_title,\n",
    "    page.page_is_redirect,\n",
    "    rd_to_id as page_redirect_id\n",
    "FROM\n",
    "    page\n",
    "LEFT JOIN\n",
    "    redirect_id\n",
    "ON\n",
    "    page.page_id = redirect_id.rd_from_id\n",
    "WHERE\n",
    "    page.page_is_redirect =0 \n",
    "OR\n",
    "    page.page_is_redirect =1 AND page_redirect_id IS NOT NULL\n",
    ";\n",
    "\"\"\"\n",
    "_ = cur.execute(sql)\n",
    "_ = cur.execute(\"CREATE INDEX IF NOT EXISTS idx_page_id ON page_and_redirect (page_id)\")"
   ]
  },
  {
   "cell_type": "markdown",
   "metadata": {},
   "source": [
    "### linktarget 先の page が記事のものだけを取得して，リンク先の id を結合\n",
    "\n",
    "- そもそも linktarge 先が存在しないものもあるのでそういうのも INNER JOIN で消える\n",
    "- [このページ](https://ja.wikipedia.org/wiki/%E5%88%A9%E7%94%A8%E8%80%85:D%C9%90/List_of_all_single-letter-double-digit_combinations)\n",
    "  のような存在しないリンク先を保持したページが多々あり，リンク先が存在しないものがめっちゃある\n"
   ]
  },
  {
   "cell_type": "code",
   "execution_count": 8,
   "metadata": {},
   "outputs": [],
   "source": [
    "sql = \"\"\"\n",
    "CREATE TABLE linktarget_id AS\n",
    "SELECT\n",
    "    lt_id AS lt_from_id,\n",
    "    page_and_redirect.page_id AS lt_to_id\n",
    "FROM\n",
    "    linktarget\n",
    "INNER JOIN\n",
    "    page_and_redirect\n",
    "ON\n",
    "    linktarget.lt_title = page_and_redirect.page_title\n",
    ";\n",
    "\"\"\"\n",
    "_ = cur.execute(sql)"
   ]
  },
  {
   "cell_type": "markdown",
   "metadata": {},
   "source": [
    "### pagelinks の先が page が記事のものだけを取得して，リンク先の id を結合\n",
    "\n",
    "- `pagelinks`ではすでに`pl_from`が記事のものだけを取得しているが，リンク先が記事でないものもある\n",
    "- `lintarget`の方は記事以外のものは存在しないので，`pagelinks`にはあるが，`linktarget`にはないものがあるので，INNER JOIN で消える\n",
    "\n",
    "### pagelinks のリンク先とリンク元が page に存在するものだけを取得\n",
    "\n",
    "- INNER JOIN でないものは消える\n"
   ]
  },
  {
   "cell_type": "code",
   "execution_count": 9,
   "metadata": {},
   "outputs": [],
   "source": [
    "sql = \"\"\"\n",
    "CREATE TABLE pagelinks_id AS\n",
    "SELECT\n",
    "    pl_from AS pl_from_id,\n",
    "    linktarget_id.lt_to_id AS pl_to_id\n",
    "FROM\n",
    "    pagelinks\n",
    "INNER JOIN\n",
    "    linktarget_id\n",
    "ON\n",
    "    pagelinks.pl_target_id = linktarget_id.lt_from_id\n",
    "INNER JOIN\n",
    "    page_and_redirect par_from\n",
    "ON\n",
    "    pagelinks.pl_from = par_from.page_id\n",
    "INNER JOIN\n",
    "    page_and_redirect par_to\n",
    "ON\n",
    "    linktarget_id.lt_to_id = par_to.page_id\n",
    ";\n",
    "\"\"\"\n",
    "_ = cur.execute(sql)\n",
    "_ = cur.execute(\"CREATE INDEX IF NOT EXISTS idx_pl_to_id ON pagelinks_id (pl_to_id)\")\n",
    "_ = cur.execute(\"CREATE INDEX IF NOT EXISTS idx_pl_from_id ON pagelinks_id (pl_from_id)\")"
   ]
  },
  {
   "cell_type": "markdown",
   "metadata": {},
   "source": [
    "### pagelinks_id と page_and_redirect 以外のテーブルを削除\n"
   ]
  },
  {
   "cell_type": "code",
   "execution_count": 10,
   "metadata": {},
   "outputs": [],
   "source": [
    "# pagelinks_idとpage_and_redirect以外のテーブルを削除\n",
    "_ = cur.execute(\"DROP TABLE IF EXISTS page\")\n",
    "_ = cur.execute(\"DROP TABLE IF EXISTS pagelinks\")\n",
    "_ = cur.execute(\"DROP TABLE IF EXISTS redirect\")\n",
    "_ = cur.execute(\"DROP TABLE IF EXISTS linktarget\")\n",
    "_ = cur.execute(\"DROP TABLE IF EXISTS redirect_id\")\n",
    "_ = cur.execute(\"DROP TABLE IF EXISTS linktarget_id\")"
   ]
  }
 ],
 "metadata": {
  "kernelspec": {
   "display_name": ".venv",
   "language": "python",
   "name": "python3"
  },
  "language_info": {
   "codemirror_mode": {
    "name": "ipython",
    "version": 3
   },
   "file_extension": ".py",
   "mimetype": "text/x-python",
   "name": "python",
   "nbconvert_exporter": "python",
   "pygments_lexer": "ipython3",
   "version": "3.13.1"
  }
 },
 "nbformat": 4,
 "nbformat_minor": 2
}
